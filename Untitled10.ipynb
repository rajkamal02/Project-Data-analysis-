{
  "nbformat": 4,
  "nbformat_minor": 0,
  "metadata": {
    "colab": {
      "provenance": []
    },
    "kernelspec": {
      "name": "python3",
      "display_name": "Python 3"
    },
    "language_info": {
      "name": "python"
    }
  },
  "cells": [
    {
      "cell_type": "code",
      "execution_count": 7,
      "metadata": {
        "colab": {
          "base_uri": "https://localhost:8080/"
        },
        "id": "aMvEELBrnTSJ",
        "outputId": "51330dbd-0676-4b73-804a-989a4b8a3d6f"
      },
      "outputs": [
        {
          "output_type": "stream",
          "name": "stdout",
          "text": [
            "1\n",
            "2\n",
            "4\n",
            "8\n",
            "16\n",
            "32\n",
            "64\n"
          ]
        },
        {
          "output_type": "execute_result",
          "data": {
            "text/plain": [
              "64"
            ]
          },
          "metadata": {},
          "execution_count": 7
        }
      ],
      "source": [
        "def power(num):\n",
        "  if num <1:\n",
        "    return 0\n",
        "  elif num ==1:\n",
        "    print(1)\n",
        "    return 1\n",
        "  else:\n",
        "    prev = power(num//2)\n",
        "    curr = prev*2\n",
        "    print(curr)\n",
        "    return curr\n",
        "power(100)"
      ]
    },
    {
      "cell_type": "code",
      "source": [
        "def mod(a,b):\n",
        "  if b<=0:\n",
        "    return -1\n",
        "  div = a//b\n",
        "  return a -div*b\n",
        "mod(5,3)"
      ],
      "metadata": {
        "colab": {
          "base_uri": "https://localhost:8080/"
        },
        "id": "x2FxnmADnwXj",
        "outputId": "947108b8-3c9e-48ac-cc38-f071696e3e4a"
      },
      "execution_count": 9,
      "outputs": [
        {
          "output_type": "execute_result",
          "data": {
            "text/plain": [
              "2"
            ]
          },
          "metadata": {},
          "execution_count": 9
        }
      ]
    },
    {
      "cell_type": "code",
      "source": [
        "#Data Structure :- way ti store ans organize data efficiency\n",
        "#dynamic arraya python list is dynamic array\n"
      ],
      "metadata": {
        "id": "lgo1ARmypUBT"
      },
      "execution_count": 10,
      "outputs": []
    },
    {
      "cell_type": "code",
      "source": [
        "import sys\n",
        "l = []\n",
        "sys.getsizeof(l)"
      ],
      "metadata": {
        "colab": {
          "base_uri": "https://localhost:8080/"
        },
        "id": "wCYxAYV39qdL",
        "outputId": "2f22deda-82ab-4bfd-9fe1-31ed6697f2db"
      },
      "execution_count": 14,
      "outputs": [
        {
          "output_type": "execute_result",
          "data": {
            "text/plain": [
              "56"
            ]
          },
          "metadata": {},
          "execution_count": 14
        }
      ]
    },
    {
      "cell_type": "code",
      "source": [
        "l.append(6)"
      ],
      "metadata": {
        "id": "xCfM9OQ49wmR"
      },
      "execution_count": 22,
      "outputs": []
    },
    {
      "cell_type": "code",
      "source": [
        "l"
      ],
      "metadata": {
        "colab": {
          "base_uri": "https://localhost:8080/"
        },
        "id": "GZLmp7Yq_Juu",
        "outputId": "d999b80f-42a3-4976-e742-c45a42bd0d91"
      },
      "execution_count": 23,
      "outputs": [
        {
          "output_type": "execute_result",
          "data": {
            "text/plain": [
              "['hello', 8, 0, 6]"
            ]
          },
          "metadata": {},
          "execution_count": 23
        }
      ]
    },
    {
      "cell_type": "code",
      "source": [
        "sys.getsizeof(l)"
      ],
      "metadata": {
        "colab": {
          "base_uri": "https://localhost:8080/"
        },
        "id": "FtG4QAjd_MEG",
        "outputId": "fcbd0685-9540-4553-b7ee-29a11ecb61f8"
      },
      "execution_count": 17,
      "outputs": [
        {
          "output_type": "execute_result",
          "data": {
            "text/plain": [
              "88"
            ]
          },
          "metadata": {},
          "execution_count": 17
        }
      ]
    },
    {
      "cell_type": "code",
      "source": [
        "for i in range(100):\n",
        "  print(i,sys.getsizeof(l))\n",
        "  l.append(i)"
      ],
      "metadata": {
        "colab": {
          "base_uri": "https://localhost:8080/"
        },
        "id": "jb8TTrLB_REQ",
        "outputId": "a999ff5a-dc5a-46eb-962c-fb4dc86b860a"
      },
      "execution_count": 24,
      "outputs": [
        {
          "output_type": "stream",
          "name": "stdout",
          "text": [
            "0 88\n",
            "1 120\n",
            "2 120\n",
            "3 120\n",
            "4 120\n",
            "5 184\n",
            "6 184\n",
            "7 184\n",
            "8 184\n",
            "9 184\n",
            "10 184\n",
            "11 184\n",
            "12 184\n",
            "13 248\n",
            "14 248\n",
            "15 248\n",
            "16 248\n",
            "17 248\n",
            "18 248\n",
            "19 248\n",
            "20 248\n",
            "21 312\n",
            "22 312\n",
            "23 312\n",
            "24 312\n",
            "25 312\n",
            "26 312\n",
            "27 312\n",
            "28 312\n",
            "29 376\n",
            "30 376\n",
            "31 376\n",
            "32 376\n",
            "33 376\n",
            "34 376\n",
            "35 376\n",
            "36 376\n",
            "37 472\n",
            "38 472\n",
            "39 472\n",
            "40 472\n",
            "41 472\n",
            "42 472\n",
            "43 472\n",
            "44 472\n",
            "45 472\n",
            "46 472\n",
            "47 472\n",
            "48 472\n",
            "49 568\n",
            "50 568\n",
            "51 568\n",
            "52 568\n",
            "53 568\n",
            "54 568\n",
            "55 568\n",
            "56 568\n",
            "57 568\n",
            "58 568\n",
            "59 568\n",
            "60 568\n",
            "61 664\n",
            "62 664\n",
            "63 664\n",
            "64 664\n",
            "65 664\n",
            "66 664\n",
            "67 664\n",
            "68 664\n",
            "69 664\n",
            "70 664\n",
            "71 664\n",
            "72 664\n",
            "73 792\n",
            "74 792\n",
            "75 792\n",
            "76 792\n",
            "77 792\n",
            "78 792\n",
            "79 792\n",
            "80 792\n",
            "81 792\n",
            "82 792\n",
            "83 792\n",
            "84 792\n",
            "85 792\n",
            "86 792\n",
            "87 792\n",
            "88 792\n",
            "89 920\n",
            "90 920\n",
            "91 920\n",
            "92 920\n",
            "93 920\n",
            "94 920\n",
            "95 920\n",
            "96 920\n",
            "97 920\n",
            "98 920\n",
            "99 920\n"
          ]
        }
      ]
    },
    {
      "cell_type": "code",
      "source": [
        "import ctypes"
      ],
      "metadata": {
        "id": "RbRcTHVV_qOn"
      },
      "execution_count": 25,
      "outputs": []
    },
    {
      "cell_type": "code",
      "source": [
        "class meralist:\n",
        "  def __init__(self):\n",
        "    self.size = 1\n",
        "    self.n = 0\n",
        "    #create a c type array with size  = self.size\n",
        "    self.A = self.__make_array(self.size)\n",
        "\n",
        "  def __len__(self):\n",
        "    return self.n\n",
        "\n",
        "  def __append(self,item):\n",
        "    if self.n == self.size:\n",
        "\n",
        "      self.__resize(self.size*2)\n",
        "\n",
        "      self.A[self.n] = item\n",
        "      self.n = slef.n + 1\n",
        "  def __resize(slef,new_capacity):\n",
        "     b = self.__make_arrray(new_capacity)\n",
        "     self.size = new_capacity\n",
        "     for i in range( self.n):\n",
        "      b[i]= self.A[i]\n",
        "     self.A = b\n",
        "\n",
        "\n",
        "\n",
        "  def __make_array(self,capacity):\n",
        "    #create a C type array(static , referantial) with size capacity\n",
        "    return (capacity*ctypes.py_object)()"
      ],
      "metadata": {
        "id": "QWw_6mt7AFoj"
      },
      "execution_count": 46,
      "outputs": []
    },
    {
      "cell_type": "code",
      "source": [
        "l = meralist()"
      ],
      "metadata": {
        "id": "2D6UWV6uFWjx"
      },
      "execution_count": 47,
      "outputs": []
    },
    {
      "cell_type": "code",
      "source": [
        "print(l)"
      ],
      "metadata": {
        "colab": {
          "base_uri": "https://localhost:8080/"
        },
        "id": "BTojtsaPFaHG",
        "outputId": "d48a7863-053f-4399-deea-932de966de19"
      },
      "execution_count": 48,
      "outputs": [
        {
          "output_type": "stream",
          "name": "stdout",
          "text": [
            "<__main__.meralist object at 0x7a6b7458c790>\n"
          ]
        }
      ]
    },
    {
      "cell_type": "code",
      "source": [
        "len(l)"
      ],
      "metadata": {
        "colab": {
          "base_uri": "https://localhost:8080/"
        },
        "id": "KL7_levhF9FO",
        "outputId": "22ca1753-44f1-4f2d-b4f1-9aed06c0381f"
      },
      "execution_count": 49,
      "outputs": [
        {
          "output_type": "execute_result",
          "data": {
            "text/plain": [
              "0"
            ]
          },
          "metadata": {},
          "execution_count": 49
        }
      ]
    },
    {
      "cell_type": "code",
      "source": [
        "l = [10,20,30,40]"
      ],
      "metadata": {
        "id": "aegWVoGTFd7Q"
      },
      "execution_count": 50,
      "outputs": []
    },
    {
      "cell_type": "code",
      "source": [
        "l.append('Hellow')"
      ],
      "metadata": {
        "id": "d_t7wHZmFl0u"
      },
      "execution_count": 51,
      "outputs": []
    },
    {
      "cell_type": "code",
      "source": [
        "l.append('Hello')\n",
        "l.append(3.4)\n",
        "l.append(True)\n",
        "l.append(100)"
      ],
      "metadata": {
        "id": "pzu0dXsSFnwd"
      },
      "execution_count": 52,
      "outputs": []
    },
    {
      "cell_type": "code",
      "source": [
        "len(l)"
      ],
      "metadata": {
        "colab": {
          "base_uri": "https://localhost:8080/"
        },
        "id": "jURmZHVBOsC7",
        "outputId": "3bb2742f-b14a-4feb-b4ec-260a4fd65f26"
      },
      "execution_count": 53,
      "outputs": [
        {
          "output_type": "execute_result",
          "data": {
            "text/plain": [
              "9"
            ]
          },
          "metadata": {},
          "execution_count": 53
        }
      ]
    },
    {
      "cell_type": "code",
      "source": [],
      "metadata": {
        "id": "WVbQZm-3OvP-"
      },
      "execution_count": null,
      "outputs": []
    }
  ]
}